{
 "cells": [
  {
   "cell_type": "markdown",
   "metadata": {},
   "source": [
    "# Applied Data Science Capstone - Week 3"
   ]
  },
  {
   "cell_type": "markdown",
   "metadata": {},
   "source": [
    "## Segmenting and Clustering Neighborhoods in the city of Toronto, Canada"
   ]
  },
  {
   "cell_type": "markdown",
   "metadata": {},
   "source": [
    "#### Author: Alejandro Del Campo"
   ]
  },
  {
   "cell_type": "markdown",
   "metadata": {},
   "source": [
    "##### \n",
    "##### First of all, instal all the libraries that I will need in this step"
   ]
  },
  {
   "cell_type": "code",
   "execution_count": 1,
   "metadata": {
    "collapsed": true,
    "jupyter": {
     "outputs_hidden": true
    }
   },
   "outputs": [
    {
     "name": "stdout",
     "output_type": "stream",
     "text": [
      "Requirement already satisfied: lxml in /home/jupyterlab/conda/envs/python/lib/python3.6/site-packages (4.6.2)\n",
      "Requirement already satisfied: bs4 in /home/jupyterlab/conda/envs/python/lib/python3.6/site-packages (0.0.1)\n",
      "Requirement already satisfied: html5lib in /home/jupyterlab/conda/envs/python/lib/python3.6/site-packages (0.9999999)\n",
      "Requirement already satisfied: beautifulsoup4 in /home/jupyterlab/conda/envs/python/lib/python3.6/site-packages (from bs4) (4.9.3)\n",
      "Requirement already satisfied: six in /home/jupyterlab/conda/envs/python/lib/python3.6/site-packages (from html5lib) (1.15.0)\n",
      "Requirement already satisfied: soupsieve>1.2; python_version >= \"3.0\" in /home/jupyterlab/conda/envs/python/lib/python3.6/site-packages (from beautifulsoup4->bs4) (2.2)\n"
     ]
    }
   ],
   "source": [
    "import pandas as pd\n",
    "#!pip install lxml\n",
    "!pip install lxml bs4 html5lib\n",
    "import lxml\n",
    "#!conda install -c anaconda lxml"
   ]
  },
  {
   "cell_type": "markdown",
   "metadata": {},
   "source": [
    "##### \n",
    "##### Next, copy the url and use the read_html command to read all de tables of the URL, then introduce the first table in the dataframe"
   ]
  },
  {
   "cell_type": "code",
   "execution_count": 2,
   "metadata": {},
   "outputs": [
    {
     "data": {
      "text/html": [
       "<div>\n",
       "<style scoped>\n",
       "    .dataframe tbody tr th:only-of-type {\n",
       "        vertical-align: middle;\n",
       "    }\n",
       "\n",
       "    .dataframe tbody tr th {\n",
       "        vertical-align: top;\n",
       "    }\n",
       "\n",
       "    .dataframe thead th {\n",
       "        text-align: right;\n",
       "    }\n",
       "</style>\n",
       "<table border=\"1\" class=\"dataframe\">\n",
       "  <thead>\n",
       "    <tr style=\"text-align: right;\">\n",
       "      <th></th>\n",
       "      <th>Postal Code</th>\n",
       "      <th>Borough</th>\n",
       "      <th>Neighbourhood</th>\n",
       "    </tr>\n",
       "  </thead>\n",
       "  <tbody>\n",
       "    <tr>\n",
       "      <th>0</th>\n",
       "      <td>M1A</td>\n",
       "      <td>Not assigned</td>\n",
       "      <td>Not assigned</td>\n",
       "    </tr>\n",
       "    <tr>\n",
       "      <th>1</th>\n",
       "      <td>M2A</td>\n",
       "      <td>Not assigned</td>\n",
       "      <td>Not assigned</td>\n",
       "    </tr>\n",
       "    <tr>\n",
       "      <th>2</th>\n",
       "      <td>M3A</td>\n",
       "      <td>North York</td>\n",
       "      <td>Parkwoods</td>\n",
       "    </tr>\n",
       "    <tr>\n",
       "      <th>3</th>\n",
       "      <td>M4A</td>\n",
       "      <td>North York</td>\n",
       "      <td>Victoria Village</td>\n",
       "    </tr>\n",
       "    <tr>\n",
       "      <th>4</th>\n",
       "      <td>M5A</td>\n",
       "      <td>Downtown Toronto</td>\n",
       "      <td>Regent Park, Harbourfront</td>\n",
       "    </tr>\n",
       "  </tbody>\n",
       "</table>\n",
       "</div>"
      ],
      "text/plain": [
       "  Postal Code           Borough              Neighbourhood\n",
       "0         M1A      Not assigned               Not assigned\n",
       "1         M2A      Not assigned               Not assigned\n",
       "2         M3A        North York                  Parkwoods\n",
       "3         M4A        North York           Victoria Village\n",
       "4         M5A  Downtown Toronto  Regent Park, Harbourfront"
      ]
     },
     "execution_count": 2,
     "metadata": {},
     "output_type": "execute_result"
    }
   ],
   "source": [
    "page = 'https://en.wikipedia.org/wiki/List_of_postal_codes_of_Canada:_M'\n",
    "wikitable=pd.read_html(page,flavor='html5lib')\n",
    "toronto_df=wikitable[0]\n",
    "toronto_df.head()"
   ]
  },
  {
   "cell_type": "markdown",
   "metadata": {},
   "source": [
    "##### The shape of the original dataframe"
   ]
  },
  {
   "cell_type": "code",
   "execution_count": 3,
   "metadata": {},
   "outputs": [
    {
     "name": "stdout",
     "output_type": "stream",
     "text": [
      "The  shape of dataframe is: (180, 3)\n"
     ]
    }
   ],
   "source": [
    "print('The  shape of dataframe is:',toronto_df.shape)"
   ]
  },
  {
   "cell_type": "markdown",
   "metadata": {},
   "source": [
    "##### Let's drop the Postal Codes without any borough assigned"
   ]
  },
  {
   "cell_type": "code",
   "execution_count": 4,
   "metadata": {},
   "outputs": [
    {
     "name": "stdout",
     "output_type": "stream",
     "text": [
      "The new shape of dataframe is: (103, 3)\n"
     ]
    },
    {
     "data": {
      "text/html": [
       "<div>\n",
       "<style scoped>\n",
       "    .dataframe tbody tr th:only-of-type {\n",
       "        vertical-align: middle;\n",
       "    }\n",
       "\n",
       "    .dataframe tbody tr th {\n",
       "        vertical-align: top;\n",
       "    }\n",
       "\n",
       "    .dataframe thead th {\n",
       "        text-align: right;\n",
       "    }\n",
       "</style>\n",
       "<table border=\"1\" class=\"dataframe\">\n",
       "  <thead>\n",
       "    <tr style=\"text-align: right;\">\n",
       "      <th></th>\n",
       "      <th>Postal Code</th>\n",
       "      <th>Borough</th>\n",
       "      <th>Neighbourhood</th>\n",
       "    </tr>\n",
       "  </thead>\n",
       "  <tbody>\n",
       "    <tr>\n",
       "      <th>0</th>\n",
       "      <td>M3A</td>\n",
       "      <td>North York</td>\n",
       "      <td>Parkwoods</td>\n",
       "    </tr>\n",
       "    <tr>\n",
       "      <th>1</th>\n",
       "      <td>M4A</td>\n",
       "      <td>North York</td>\n",
       "      <td>Victoria Village</td>\n",
       "    </tr>\n",
       "    <tr>\n",
       "      <th>2</th>\n",
       "      <td>M5A</td>\n",
       "      <td>Downtown Toronto</td>\n",
       "      <td>Regent Park, Harbourfront</td>\n",
       "    </tr>\n",
       "    <tr>\n",
       "      <th>3</th>\n",
       "      <td>M6A</td>\n",
       "      <td>North York</td>\n",
       "      <td>Lawrence Manor, Lawrence Heights</td>\n",
       "    </tr>\n",
       "    <tr>\n",
       "      <th>4</th>\n",
       "      <td>M7A</td>\n",
       "      <td>Downtown Toronto</td>\n",
       "      <td>Queen's Park, Ontario Provincial Government</td>\n",
       "    </tr>\n",
       "  </tbody>\n",
       "</table>\n",
       "</div>"
      ],
      "text/plain": [
       "  Postal Code           Borough                                Neighbourhood\n",
       "0         M3A        North York                                    Parkwoods\n",
       "1         M4A        North York                             Victoria Village\n",
       "2         M5A  Downtown Toronto                    Regent Park, Harbourfront\n",
       "3         M6A        North York             Lawrence Manor, Lawrence Heights\n",
       "4         M7A  Downtown Toronto  Queen's Park, Ontario Provincial Government"
      ]
     },
     "execution_count": 4,
     "metadata": {},
     "output_type": "execute_result"
    }
   ],
   "source": [
    "#Let's drop the row without Borough and Neighbourhood\n",
    "df_to=toronto_df[toronto_df.Borough != 'Not assigned']\n",
    "print('The new shape of dataframe is:',df_to.shape)\n",
    "df_to=df_to.reset_index(drop=True)\n",
    "df_to.head()"
   ]
  },
  {
   "cell_type": "markdown",
   "metadata": {},
   "source": [
    "### Step 2: Obtaining the coordinates of Toronto Neighbourhoods"
   ]
  },
  {
   "cell_type": "code",
   "execution_count": 5,
   "metadata": {
    "collapsed": true,
    "jupyter": {
     "outputs_hidden": true
    }
   },
   "outputs": [
    {
     "name": "stdout",
     "output_type": "stream",
     "text": [
      "--2021-02-10 10:40:12--  http://cocl.us/Geospatial_data\n",
      "Resolving cocl.us (cocl.us)... 169.63.96.176, 169.63.96.194\n",
      "Connecting to cocl.us (cocl.us)|169.63.96.176|:80... connected.\n",
      "HTTP request sent, awaiting response... 301 Moved Permanently\n",
      "Location: https://cocl.us/Geospatial_data [following]\n",
      "--2021-02-10 10:40:12--  https://cocl.us/Geospatial_data\n",
      "Connecting to cocl.us (cocl.us)|169.63.96.176|:443... connected.\n",
      "HTTP request sent, awaiting response... 301 Moved Permanently\n",
      "Location: https://ibm.box.com/shared/static/9afzr83pps4pwf2smjjcf1y5mvgb18rr.csv [following]\n",
      "--2021-02-10 10:40:13--  https://ibm.box.com/shared/static/9afzr83pps4pwf2smjjcf1y5mvgb18rr.csv\n",
      "Resolving ibm.box.com (ibm.box.com)... 107.152.27.197\n",
      "Connecting to ibm.box.com (ibm.box.com)|107.152.27.197|:443... connected.\n",
      "HTTP request sent, awaiting response... 301 Moved Permanently\n",
      "Location: /public/static/9afzr83pps4pwf2smjjcf1y5mvgb18rr.csv [following]\n",
      "--2021-02-10 10:40:13--  https://ibm.box.com/public/static/9afzr83pps4pwf2smjjcf1y5mvgb18rr.csv\n",
      "Reusing existing connection to ibm.box.com:443.\n",
      "HTTP request sent, awaiting response... 301 Moved Permanently\n",
      "Location: https://ibm.ent.box.com/public/static/9afzr83pps4pwf2smjjcf1y5mvgb18rr.csv [following]\n",
      "--2021-02-10 10:40:13--  https://ibm.ent.box.com/public/static/9afzr83pps4pwf2smjjcf1y5mvgb18rr.csv\n",
      "Resolving ibm.ent.box.com (ibm.ent.box.com)... 107.152.29.201\n",
      "Connecting to ibm.ent.box.com (ibm.ent.box.com)|107.152.29.201|:443... connected.\n",
      "HTTP request sent, awaiting response... 302 Found\n",
      "Location: https://public.boxcloud.com/d/1/b1!EvxjhrhzYT17Ls63_XnycaXxEmU8KDnYPBhwtZAIMpJ_nP1QXMK49sRWjoI9AXJRd6GFX5Bn3-2Zi24C_kDR4rSgnjcZy6r4cgpInBV4z1JZB_FrMaz89C51xkUtxTwPaHiQx-EOIVlU_TIFWqR5ucbxKhW3L1x6HatIJoKn32pKnDxCs0USSWWfI5DmvsFL8LnHZgl45bPwrEbvIt16Rocou7Any7J5y5ZXaiGsRGGp3130twavfNk9DySb7dnYdTFaV-7SbwAIVUt9odxAWNUQrHWKLPI-yDB-b2a3QRzRbjr59SDMtl96Q_oplY6A_Zpny890kDw2wkUHYMts0Lf4k3HSa04i8SqplDanDmDtCFBUuDZSm23Lk2-PK2m8_9aHCJCKKvtUjAoAerJXfoOr1ZW8-hRvnyzqiT6R7BNfubdU7Pysc-MovD4cdTxtF2OybkxFrAs43WXKwKq_7EU9lh4tWnJxwizM2reBNWKw8zDWEroGiZyk3DKYM8teawYoWYy4jw-NBbvo5n6i42WPdQM1B1AXnjFAwUeC5UXdhV7zaxw_OG_BT8FIvf69KDk5dkPCjfaQ_u364P7lBH1tZSR_FJTw2XjR4UnCJiEn7m_p3DjzLbWj61YxDl5Q8dIWjcIKSFgHMdqf8bjNnPGUFT0SWeQoVV5lZcJ9eXGFNk-GkjmnTO8P3TgtLke7MoH7-tPx5_CFe88gTDoco6qWI-ggdU9h2g-tk9KpeEeRB_GoWBLLhwpxY_pExJf_JXhsBzaQPKQrZasZ9Q0cIJFNktYwXRjr6Rd0SbiwwBzU8gC9o7ws5fDsJuArGpJXNcvGgj-FJ4jT0dRc_FkBQ4VTfPa0Tfi0c5NVgUpSeNioEXTv-QBrPDwW1bif66VmgW-ki602dTRwsca9aTPKFmLjf-O-AwjInHTJ7L5-F5oWgUFIgEqrmD0wEGsieWpn19k3QL1YUhqeDV7bIJLfiwee9-CPCjcJoxvSG-EFxNMIaV7EBi9yt088lqcRpYHzFzsKz-lhrnAHB05fHI0S1fZUgWLpgAxDg30BtYoAU_2zoBrOWC31_jwI8FLi_stER2XpARKAIyiRpU03WootuclKiR6L0SChVvwRR80dPM0IOMBs86fPzknB520l0MyWZaXX0PQEHeo0oJHSxs6decZujcrK6pK-4hrF1-Ex30o7T81GqYs6COMCFIWEB_AeXgaYRtFKuoMf_bd-qfReq5WYxqz9KaGhAMnAQEVw1UZGlPfVMZZ02ky2xKNROR_GeHm5HVS7w4zVGKhRw0H2qkTFJTZJeaqGaZ1z13NbejaT2Ggmm4WgsmtuNWcj0O1M15IwZMav6Xc-1uhyfREjy3iPoTq-hE27EFyOIoSpvdhbGwDkba3CTHvGJnmlMoOgsLRV15rscnkauvwi4ZkATrDrwhrjbFhEex0OkCR_4b7MQQ../download [following]\n",
      "--2021-02-10 10:40:14--  https://public.boxcloud.com/d/1/b1!EvxjhrhzYT17Ls63_XnycaXxEmU8KDnYPBhwtZAIMpJ_nP1QXMK49sRWjoI9AXJRd6GFX5Bn3-2Zi24C_kDR4rSgnjcZy6r4cgpInBV4z1JZB_FrMaz89C51xkUtxTwPaHiQx-EOIVlU_TIFWqR5ucbxKhW3L1x6HatIJoKn32pKnDxCs0USSWWfI5DmvsFL8LnHZgl45bPwrEbvIt16Rocou7Any7J5y5ZXaiGsRGGp3130twavfNk9DySb7dnYdTFaV-7SbwAIVUt9odxAWNUQrHWKLPI-yDB-b2a3QRzRbjr59SDMtl96Q_oplY6A_Zpny890kDw2wkUHYMts0Lf4k3HSa04i8SqplDanDmDtCFBUuDZSm23Lk2-PK2m8_9aHCJCKKvtUjAoAerJXfoOr1ZW8-hRvnyzqiT6R7BNfubdU7Pysc-MovD4cdTxtF2OybkxFrAs43WXKwKq_7EU9lh4tWnJxwizM2reBNWKw8zDWEroGiZyk3DKYM8teawYoWYy4jw-NBbvo5n6i42WPdQM1B1AXnjFAwUeC5UXdhV7zaxw_OG_BT8FIvf69KDk5dkPCjfaQ_u364P7lBH1tZSR_FJTw2XjR4UnCJiEn7m_p3DjzLbWj61YxDl5Q8dIWjcIKSFgHMdqf8bjNnPGUFT0SWeQoVV5lZcJ9eXGFNk-GkjmnTO8P3TgtLke7MoH7-tPx5_CFe88gTDoco6qWI-ggdU9h2g-tk9KpeEeRB_GoWBLLhwpxY_pExJf_JXhsBzaQPKQrZasZ9Q0cIJFNktYwXRjr6Rd0SbiwwBzU8gC9o7ws5fDsJuArGpJXNcvGgj-FJ4jT0dRc_FkBQ4VTfPa0Tfi0c5NVgUpSeNioEXTv-QBrPDwW1bif66VmgW-ki602dTRwsca9aTPKFmLjf-O-AwjInHTJ7L5-F5oWgUFIgEqrmD0wEGsieWpn19k3QL1YUhqeDV7bIJLfiwee9-CPCjcJoxvSG-EFxNMIaV7EBi9yt088lqcRpYHzFzsKz-lhrnAHB05fHI0S1fZUgWLpgAxDg30BtYoAU_2zoBrOWC31_jwI8FLi_stER2XpARKAIyiRpU03WootuclKiR6L0SChVvwRR80dPM0IOMBs86fPzknB520l0MyWZaXX0PQEHeo0oJHSxs6decZujcrK6pK-4hrF1-Ex30o7T81GqYs6COMCFIWEB_AeXgaYRtFKuoMf_bd-qfReq5WYxqz9KaGhAMnAQEVw1UZGlPfVMZZ02ky2xKNROR_GeHm5HVS7w4zVGKhRw0H2qkTFJTZJeaqGaZ1z13NbejaT2Ggmm4WgsmtuNWcj0O1M15IwZMav6Xc-1uhyfREjy3iPoTq-hE27EFyOIoSpvdhbGwDkba3CTHvGJnmlMoOgsLRV15rscnkauvwi4ZkATrDrwhrjbFhEex0OkCR_4b7MQQ../download\n",
      "Resolving public.boxcloud.com (public.boxcloud.com)... 107.152.27.200\n",
      "Connecting to public.boxcloud.com (public.boxcloud.com)|107.152.27.200|:443... connected.\n",
      "HTTP request sent, awaiting response... 200 OK\n",
      "Length: 2891 (2.8K) [text/csv]\n",
      "Saving to: ‘Geospatial_data.csv’\n",
      "\n",
      "Geospatial_data.csv 100%[===================>]   2.82K  --.-KB/s    in 0.001s  \n",
      "\n",
      "2021-02-10 10:40:14 (5.21 MB/s) - ‘Geospatial_data.csv’ saved [2891/2891]\n",
      "\n"
     ]
    }
   ],
   "source": [
    "!wget -O Geospatial_data.csv http://cocl.us/Geospatial_data\n",
    "coord = pd.read_csv(\"Geospatial_data.csv\", delimiter=\",\")"
   ]
  },
  {
   "cell_type": "code",
   "execution_count": 6,
   "metadata": {},
   "outputs": [
    {
     "data": {
      "text/html": [
       "<div>\n",
       "<style scoped>\n",
       "    .dataframe tbody tr th:only-of-type {\n",
       "        vertical-align: middle;\n",
       "    }\n",
       "\n",
       "    .dataframe tbody tr th {\n",
       "        vertical-align: top;\n",
       "    }\n",
       "\n",
       "    .dataframe thead th {\n",
       "        text-align: right;\n",
       "    }\n",
       "</style>\n",
       "<table border=\"1\" class=\"dataframe\">\n",
       "  <thead>\n",
       "    <tr style=\"text-align: right;\">\n",
       "      <th></th>\n",
       "      <th>Postal Code</th>\n",
       "      <th>Latitude</th>\n",
       "      <th>Longitude</th>\n",
       "    </tr>\n",
       "  </thead>\n",
       "  <tbody>\n",
       "    <tr>\n",
       "      <th>0</th>\n",
       "      <td>M1B</td>\n",
       "      <td>43.806686</td>\n",
       "      <td>-79.194353</td>\n",
       "    </tr>\n",
       "    <tr>\n",
       "      <th>1</th>\n",
       "      <td>M1C</td>\n",
       "      <td>43.784535</td>\n",
       "      <td>-79.160497</td>\n",
       "    </tr>\n",
       "    <tr>\n",
       "      <th>2</th>\n",
       "      <td>M1E</td>\n",
       "      <td>43.763573</td>\n",
       "      <td>-79.188711</td>\n",
       "    </tr>\n",
       "    <tr>\n",
       "      <th>3</th>\n",
       "      <td>M1G</td>\n",
       "      <td>43.770992</td>\n",
       "      <td>-79.216917</td>\n",
       "    </tr>\n",
       "    <tr>\n",
       "      <th>4</th>\n",
       "      <td>M1H</td>\n",
       "      <td>43.773136</td>\n",
       "      <td>-79.239476</td>\n",
       "    </tr>\n",
       "  </tbody>\n",
       "</table>\n",
       "</div>"
      ],
      "text/plain": [
       "  Postal Code   Latitude  Longitude\n",
       "0         M1B  43.806686 -79.194353\n",
       "1         M1C  43.784535 -79.160497\n",
       "2         M1E  43.763573 -79.188711\n",
       "3         M1G  43.770992 -79.216917\n",
       "4         M1H  43.773136 -79.239476"
      ]
     },
     "execution_count": 6,
     "metadata": {},
     "output_type": "execute_result"
    }
   ],
   "source": [
    "coord[0:5]"
   ]
  },
  {
   "cell_type": "code",
   "execution_count": 7,
   "metadata": {},
   "outputs": [
    {
     "data": {
      "text/plain": [
       "(103, 3)"
      ]
     },
     "execution_count": 7,
     "metadata": {},
     "output_type": "execute_result"
    }
   ],
   "source": [
    "coord.shape"
   ]
  },
  {
   "cell_type": "markdown",
   "metadata": {},
   "source": [
    "#### I have in the dataframe \"coord\" the coordinates of all the Postal Codes, now i introduce them in the toronto neighbourhood dataframe"
   ]
  },
  {
   "cell_type": "code",
   "execution_count": 10,
   "metadata": {},
   "outputs": [
    {
     "data": {
      "text/html": [
       "<div>\n",
       "<style scoped>\n",
       "    .dataframe tbody tr th:only-of-type {\n",
       "        vertical-align: middle;\n",
       "    }\n",
       "\n",
       "    .dataframe tbody tr th {\n",
       "        vertical-align: top;\n",
       "    }\n",
       "\n",
       "    .dataframe thead th {\n",
       "        text-align: right;\n",
       "    }\n",
       "</style>\n",
       "<table border=\"1\" class=\"dataframe\">\n",
       "  <thead>\n",
       "    <tr style=\"text-align: right;\">\n",
       "      <th></th>\n",
       "      <th>Postal Code</th>\n",
       "      <th>Borough</th>\n",
       "      <th>Neighbourhood</th>\n",
       "      <th>Latitude</th>\n",
       "      <th>Longitude</th>\n",
       "    </tr>\n",
       "  </thead>\n",
       "  <tbody>\n",
       "    <tr>\n",
       "      <th>0</th>\n",
       "      <td>M3A</td>\n",
       "      <td>North York</td>\n",
       "      <td>Parkwoods</td>\n",
       "      <td>43.7533</td>\n",
       "      <td>-79.3297</td>\n",
       "    </tr>\n",
       "    <tr>\n",
       "      <th>1</th>\n",
       "      <td>M4A</td>\n",
       "      <td>North York</td>\n",
       "      <td>Victoria Village</td>\n",
       "      <td>43.7259</td>\n",
       "      <td>-79.3156</td>\n",
       "    </tr>\n",
       "    <tr>\n",
       "      <th>2</th>\n",
       "      <td>M5A</td>\n",
       "      <td>Downtown Toronto</td>\n",
       "      <td>Regent Park, Harbourfront</td>\n",
       "      <td>43.6543</td>\n",
       "      <td>-79.3606</td>\n",
       "    </tr>\n",
       "    <tr>\n",
       "      <th>3</th>\n",
       "      <td>M6A</td>\n",
       "      <td>North York</td>\n",
       "      <td>Lawrence Manor, Lawrence Heights</td>\n",
       "      <td>43.7185</td>\n",
       "      <td>-79.4648</td>\n",
       "    </tr>\n",
       "    <tr>\n",
       "      <th>4</th>\n",
       "      <td>M7A</td>\n",
       "      <td>Downtown Toronto</td>\n",
       "      <td>Queen's Park, Ontario Provincial Government</td>\n",
       "      <td>43.6623</td>\n",
       "      <td>-79.3895</td>\n",
       "    </tr>\n",
       "  </tbody>\n",
       "</table>\n",
       "</div>"
      ],
      "text/plain": [
       "  Postal Code           Borough                                Neighbourhood  \\\n",
       "0         M3A        North York                                    Parkwoods   \n",
       "1         M4A        North York                             Victoria Village   \n",
       "2         M5A  Downtown Toronto                    Regent Park, Harbourfront   \n",
       "3         M6A        North York             Lawrence Manor, Lawrence Heights   \n",
       "4         M7A  Downtown Toronto  Queen's Park, Ontario Provincial Government   \n",
       "\n",
       "  Latitude Longitude  \n",
       "0  43.7533  -79.3297  \n",
       "1  43.7259  -79.3156  \n",
       "2  43.6543  -79.3606  \n",
       "3  43.7185  -79.4648  \n",
       "4  43.6623  -79.3895  "
      ]
     },
     "execution_count": 10,
     "metadata": {},
     "output_type": "execute_result"
    }
   ],
   "source": [
    "import numpy as np\n",
    "\n",
    "df_to['Latitude'] = \"\"\n",
    "df_to['Longitude'] = \"\"\n",
    "\n",
    "for postcod in coord['Postal Code']:\n",
    "    Lat = coord[coord['Postal Code']==postcod]['Latitude']\n",
    "    Lat=float(Lat.values)\n",
    "    Long = coord[coord['Postal Code']==postcod]['Longitude']\n",
    "    Long=float(Long.values)\n",
    "    \n",
    "    reqd_Index = df_to[df_to['Postal Code']==postcod].index.tolist()\n",
    "    index = reqd_Index[0]\n",
    "    df_to.at[index,'Latitude']=Lat\n",
    "    df_to.at[index,'Longitude']=Long\n",
    "\n",
    "df_to.head()"
   ]
  },
  {
   "cell_type": "code",
   "execution_count": 11,
   "metadata": {},
   "outputs": [
    {
     "data": {
      "text/plain": [
       "(103, 5)"
      ]
     },
     "execution_count": 11,
     "metadata": {},
     "output_type": "execute_result"
    }
   ],
   "source": [
    "df_to.shape"
   ]
  },
  {
   "cell_type": "code",
   "execution_count": null,
   "metadata": {},
   "outputs": [],
   "source": []
  }
 ],
 "metadata": {
  "kernelspec": {
   "display_name": "Python",
   "language": "python",
   "name": "conda-env-python-py"
  },
  "language_info": {
   "codemirror_mode": {
    "name": "ipython",
    "version": 3
   },
   "file_extension": ".py",
   "mimetype": "text/x-python",
   "name": "python",
   "nbconvert_exporter": "python",
   "pygments_lexer": "ipython3",
   "version": "3.6.12"
  }
 },
 "nbformat": 4,
 "nbformat_minor": 4
}
