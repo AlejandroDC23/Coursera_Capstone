{
 "cells": [
  {
   "cell_type": "markdown",
   "metadata": {},
   "source": [
    "# New Restaurant in New York City"
   ]
  },
  {
   "cell_type": "markdown",
   "metadata": {},
   "source": [
    "## Business problem"
   ]
  },
  {
   "cell_type": "markdown",
   "metadata": {},
   "source": [
    "Nowadays there is less and less stability in big companies and it is more common to become freelance and open your own business. Imagine that a person decide to leave his job in order to fulfill the dream of opening his own business. \n",
    "\n",
    "If the future owner considers that opening a restaurant would be a great option, it could be the best chance. However, many aspects come into play in this decision. Begining with the type of customers who will visit the restaurant or how many of them could be attended at the same time. Additionally, the food that will be served: it will be a restaurant with local food or with international lines. And finally, the location of the business. It is also an important feature in which city will be placed the local. If the owner wants to place it in a city that he gets used to it he will know where is the best area. But, probablly the most suitable city would not be this city. In order to decide the type and the place of the restaurant it is going to be made a tool to find the best solution.\n",
    "In this tool it has considered that the restaurant will be an Asian restaurant."
   ]
  },
  {
   "cell_type": "markdown",
   "metadata": {},
   "source": [
    "## Data"
   ]
  },
  {
   "cell_type": "markdown",
   "metadata": {},
   "source": [
    "In this section, it is going to explain the source of the data that it will use in the case study. It is important to have a reliable source that provides the tool with real information. Mainly, the API used in this tool will be Foursquare. It is a technology company that built a massive dataset of location data. Its location data is the most comprehensive out there, and quite accurate that it powers location data for many popular services.\n",
    "\n",
    "First of all, It is needed to obtain the coordinates of the city in study. New York city has 5 boroughs and 306 neighbourhoods, so in order to load this information it is going to load a dataset as json file with all the data. This data set is provided by IBM.\n",
    "\n",
    "#### Sample of the coordinates dataset\n",
    "\n",
    "|| Borough | Neighborhood | Latitude | Longitude \n",
    "|--- | --- | --- | --- | --- \n",
    "| 0 | Bronx | Wakefield | 40.894705 | -73.847201\n",
    "| 1 | Bronx | Co-op City | 40.874294 | -73.829939\n",
    "| 2 | Bronx | Eastchester | 40.887556 | -73.827806\n",
    "| 3 | Bronx | Fieldston | 40.895437 | -73.905643\n",
    "| 4 | Bronx | Riverdale | 40.890834 | -73.912585\n",
    "\n",
    "This neghbourhood could be seen in the figure below as blue circle marks:\n"
   ]
  },
  {
   "cell_type": "markdown",
   "metadata": {},
   "source": [
    "<img src=\"NYC_map.jpg\">"
   ]
  },
  {
   "cell_type": "markdown",
   "metadata": {},
   "source": [
    "Once it has collected the neighborhood data, it will be used the Foursquare API to collect the Asian Restaurant information. First of all, it will used a get request to obtain the restaurant names. Then another request will be applied to obtain the rating of each restaurant.\n",
    "The rating of the restaurants will be a good reason to decide where it could be located the business. The amount of restaurants in each neighborhood will also be used, if there is too much restaurants in one area is because there are a lot os customers with the same profile. Or may be an area with a few restaurants is a good opportunity to stand out with your business."
   ]
  }
 ],
 "metadata": {
  "kernelspec": {
   "display_name": "Python",
   "language": "python",
   "name": "conda-env-python-py"
  },
  "language_info": {
   "codemirror_mode": {
    "name": "ipython",
    "version": 3
   },
   "file_extension": ".py",
   "mimetype": "text/x-python",
   "name": "python",
   "nbconvert_exporter": "python",
   "pygments_lexer": "ipython3",
   "version": "3.6.12"
  }
 },
 "nbformat": 4,
 "nbformat_minor": 4
}
