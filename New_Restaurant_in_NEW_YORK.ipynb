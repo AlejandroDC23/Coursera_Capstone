{
 "cells": [
  {
   "cell_type": "markdown",
   "metadata": {},
   "source": [
    "# New Restaurant in New York"
   ]
  },
  {
   "cell_type": "markdown",
   "metadata": {},
   "source": [
    "## Business problem"
   ]
  },
  {
   "cell_type": "markdown",
   "metadata": {},
   "source": [
    "Nowadays there is less and less stability in big companies and it is increasingly common to become freelance and open your own business. Imagine that a person decide to leave his job in order to fulfill the dream of opening his own business. \n",
    "\n",
    "If the future owner considers that opening a restaurant would be the greatest option, it could be the best chance. However, many aspects come into play in this decision. The type of customers who will visit the restaurant, how many of them could be served at the same time. Additionally, the food that will be served, it will be a restaurant with local food or with international lines. And finally, the ubication of the local.  It is also an important feature in which city will be placed the local. If the owner wants to place it in a city that he gets used to it he will know where is the best area. But, probablly the most suitable city would not be this city. In order to decide the type and the place of the restaurant it is going to make a tool to recommend it."
   ]
  }
 ],
 "metadata": {
  "kernelspec": {
   "display_name": "Python",
   "language": "python",
   "name": "conda-env-python-py"
  },
  "language_info": {
   "codemirror_mode": {
    "name": "ipython",
    "version": 3
   },
   "file_extension": ".py",
   "mimetype": "text/x-python",
   "name": "python",
   "nbconvert_exporter": "python",
   "pygments_lexer": "ipython3",
   "version": "3.6.12"
  }
 },
 "nbformat": 4,
 "nbformat_minor": 4
}
